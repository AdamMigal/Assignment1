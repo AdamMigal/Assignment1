{
 "cells": [
  {
   "cell_type": "markdown",
   "id": "f251c57d",
   "metadata": {},
   "source": [
    "# Data Science Tools and Ecosystem"
   ]
  },
  {
   "cell_type": "markdown",
   "id": "a9efbc02",
   "metadata": {},
   "source": [
    "### In this notebook, I summarize data science tools and ecosystem."
   ]
  },
  {
   "cell_type": "markdown",
   "id": "54abc99c",
   "metadata": {},
   "source": [
    "# Author\n",
    "Adam Abramson"
   ]
  },
  {
   "cell_type": "markdown",
   "id": "9f7a49a1",
   "metadata": {},
   "source": [
    "# Objectives"
   ]
  },
  {
   "cell_type": "markdown",
   "id": "2db90e26",
   "metadata": {},
   "source": [
    "- List popular languages for Data Science\n",
    "- List common libraries for Data Science\n",
    "- Demonstrate my ability to write Jupyter notebooks\n",
    "- Show examples of how code and markdown can be organized in notebooks"
   ]
  },
  {
   "cell_type": "markdown",
   "id": "75a00315",
   "metadata": {},
   "source": [
    "#### Some of the common languages that Data Scientists use are:"
   ]
  },
  {
   "cell_type": "markdown",
   "id": "f5b98003",
   "metadata": {},
   "source": [
    "1. Python\n",
    "2. R\n",
    "3. SQL"
   ]
  },
  {
   "cell_type": "markdown",
   "id": "e7595fcf",
   "metadata": {},
   "source": [
    "#### Some of the commonly used libraries used by Data Scientists include:"
   ]
  },
  {
   "cell_type": "markdown",
   "id": "0f7ec237",
   "metadata": {},
   "source": [
    "1. Pandas\n",
    "2. NumPy\n",
    "3. SciKit-Learn\n",
    "4. PyTorch"
   ]
  },
  {
   "cell_type": "markdown",
   "id": "38bf7be4",
   "metadata": {},
   "source": [
    "|Data Science Tools|\n",
    "|------------------|\n",
    "|Anaconda|\n",
    "|R Studio|\n",
    "|Jupyter|"
   ]
  },
  {
   "cell_type": "markdown",
   "id": "9f8da7a4",
   "metadata": {},
   "source": [
    "#### Below are a few examples of evaluating arithmetic expressions in Python"
   ]
  },
  {
   "cell_type": "code",
   "execution_count": 8,
   "id": "b550d6b1",
   "metadata": {},
   "outputs": [
    {
     "data": {
      "text/plain": [
       "57"
      ]
     },
     "execution_count": 8,
     "metadata": {},
     "output_type": "execute_result"
    }
   ],
   "source": [
    "23+34 #addition"
   ]
  },
  {
   "cell_type": "code",
   "execution_count": 9,
   "id": "ad7a3bb2",
   "metadata": {},
   "outputs": [
    {
     "data": {
      "text/plain": [
       "5"
      ]
     },
     "execution_count": 9,
     "metadata": {},
     "output_type": "execute_result"
    }
   ],
   "source": [
    "18 - 13 #subtraction"
   ]
  },
  {
   "cell_type": "code",
   "execution_count": 10,
   "id": "3203ff76",
   "metadata": {},
   "outputs": [
    {
     "data": {
      "text/plain": [
       "1625"
      ]
     },
     "execution_count": 10,
     "metadata": {},
     "output_type": "execute_result"
    }
   ],
   "source": [
    "25 * 65 #multiplication"
   ]
  },
  {
   "cell_type": "code",
   "execution_count": 11,
   "id": "2a61de0d",
   "metadata": {},
   "outputs": [
    {
     "data": {
      "text/plain": [
       "8.88888888888889"
      ]
     },
     "execution_count": 11,
     "metadata": {},
     "output_type": "execute_result"
    }
   ],
   "source": [
    "40 / 4.5 # division"
   ]
  },
  {
   "cell_type": "code",
   "execution_count": 12,
   "id": "c1972b13",
   "metadata": {},
   "outputs": [
    {
     "data": {
      "text/plain": [
       "17"
      ]
     },
     "execution_count": 12,
     "metadata": {},
     "output_type": "execute_result"
    }
   ],
   "source": [
    "# This a simple arithmetic expression to mutiply then add integers\n",
    "(3*4)+5"
   ]
  },
  {
   "cell_type": "code",
   "execution_count": 16,
   "id": "b03de3d0",
   "metadata": {},
   "outputs": [
    {
     "name": "stdout",
     "output_type": "stream",
     "text": [
      "3.3333333333333335\n"
     ]
    }
   ],
   "source": [
    "#  This will convert 200 minutes to hours by dividing by 60\n",
    "minutes = 200\n",
    "hours = minutes / 60\n",
    "print(hours)"
   ]
  },
  {
   "cell_type": "code",
   "execution_count": null,
   "id": "80ac5557",
   "metadata": {},
   "outputs": [],
   "source": []
  }
 ],
 "metadata": {
  "kernelspec": {
   "display_name": "Python 3 (ipykernel)",
   "language": "python",
   "name": "python3"
  },
  "language_info": {
   "codemirror_mode": {
    "name": "ipython",
    "version": 3
   },
   "file_extension": ".py",
   "mimetype": "text/x-python",
   "name": "python",
   "nbconvert_exporter": "python",
   "pygments_lexer": "ipython3",
   "version": "3.10.11"
  }
 },
 "nbformat": 4,
 "nbformat_minor": 5
}
